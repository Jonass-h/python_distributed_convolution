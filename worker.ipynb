{
 "cells": [
  {
   "cell_type": "code",
   "execution_count": 1,
   "id": "268959be",
   "metadata": {},
   "outputs": [],
   "source": [
    "import socket\n",
    "import sys"
   ]
  },
  {
   "cell_type": "code",
   "execution_count": null,
   "id": "a8173092",
   "metadata": {},
   "outputs": [
    {
     "name": "stdout",
     "output_type": "stream",
     "text": [
      "starting up on port : ('127.0.0.1', 2002)\n",
      "\n",
      " waiting for a connection\n",
      "connection from ('127.0.0.1', 52030)\n",
      "\n",
      " waiting for a connection\n",
      "connection from ('127.0.0.1', 52032)\n",
      "\n",
      " waiting for a connection\n"
     ]
    }
   ],
   "source": [
    "# Create a TCP/IP socket\n",
    "sock = socket.socket(socket.AF_INET, socket.SOCK_STREAM)\n",
    "# Bind the socket to the port\n",
    "server_address = ('127.0.0.1',2002)\n",
    "print('starting up on port :' ,server_address)\n",
    "sock.bind(server_address)\n",
    "# Listen for incoming connections\n",
    "sock.listen(1)\n",
    "while True:\n",
    "    # Wait for a connection\n",
    "    print('\\n waiting for a connection')\n",
    "    connection, client_address = sock.accept()\n",
    "    try:\n",
    "        print ('connection from',client_address)\n",
    "        # Receive the data in small chunks and retransmit it\n",
    "        data = connection.recv(1024)\n",
    "        while data:\n",
    "            data= connection.recv(1024)\n",
    "        connection.send(b'ok')\n",
    "    finally:\n",
    "        # Clean up the connection\n",
    "        connection.close()"
   ]
  },
  {
   "cell_type": "code",
   "execution_count": null,
   "id": "b507adac",
   "metadata": {},
   "outputs": [],
   "source": []
  },
  {
   "cell_type": "code",
   "execution_count": null,
   "id": "b088a770",
   "metadata": {},
   "outputs": [],
   "source": []
  }
 ],
 "metadata": {
  "kernelspec": {
   "display_name": "Python 3",
   "language": "python",
   "name": "python3"
  },
  "language_info": {
   "codemirror_mode": {
    "name": "ipython",
    "version": 3
   },
   "file_extension": ".py",
   "mimetype": "text/x-python",
   "name": "python",
   "nbconvert_exporter": "python",
   "pygments_lexer": "ipython3",
   "version": "3.9.2"
  }
 },
 "nbformat": 4,
 "nbformat_minor": 5
}
