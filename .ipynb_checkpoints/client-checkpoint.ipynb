{
 "cells": [
  {
   "cell_type": "code",
   "execution_count": 4,
   "id": "87cd702a",
   "metadata": {},
   "outputs": [
    {
     "name": "stdout",
     "output_type": "stream",
     "text": [
      "\n",
      "[*] Socket successfully created\n",
      "\n",
      "[*] Connecting to server @ ip = 127.0.0.1 and port = 5005\n",
      "\n",
      "[*] Sending image as bytes...\n",
      "1\n",
      "4096\n",
      "3911\n",
      "\n",
      "[*] Finish sending the image...\n",
      "\n",
      "------------------------------------------------\n",
      "\n",
      "----------------Receving data-------------------\n",
      "\n",
      "\n",
      "------------------------------------------------\n",
      "\n",
      "\n",
      "[*] Length of Data received: 4096\n",
      "\n",
      "[*] Length of Data received: 4096\n",
      "\n",
      "[*] Length of Data received: 1408\n",
      "\n",
      "[*] Length of Data received: 1\n"
     ]
    },
    {
     "ename": "UnidentifiedImageError",
     "evalue": "cannot identify image file 'from_server.jpeg'",
     "output_type": "error",
     "traceback": [
      "\u001b[0;31m---------------------------------------------------------------------------\u001b[0m",
      "\u001b[0;31mUnidentifiedImageError\u001b[0m                    Traceback (most recent call last)",
      "\u001b[0;32m<ipython-input-4-225a15d33f99>\u001b[0m in \u001b[0;36m<module>\u001b[0;34m\u001b[0m\n\u001b[1;32m     39\u001b[0m \u001b[0;34m\u001b[0m\u001b[0m\n\u001b[1;32m     40\u001b[0m \u001b[0;34m\u001b[0m\u001b[0m\n\u001b[0;32m---> 41\u001b[0;31m     \u001b[0mimg\u001b[0m \u001b[0;34m=\u001b[0m \u001b[0mmpimg\u001b[0m\u001b[0;34m.\u001b[0m\u001b[0mimread\u001b[0m\u001b[0;34m(\u001b[0m\u001b[0;34m\"from_server.jpeg\"\u001b[0m\u001b[0;34m)\u001b[0m\u001b[0;34m\u001b[0m\u001b[0;34m\u001b[0m\u001b[0m\n\u001b[0m\u001b[1;32m     42\u001b[0m     \u001b[0mplt\u001b[0m\u001b[0;34m.\u001b[0m\u001b[0mimshow\u001b[0m\u001b[0;34m(\u001b[0m\u001b[0mimg\u001b[0m\u001b[0;34m)\u001b[0m\u001b[0;34m\u001b[0m\u001b[0;34m\u001b[0m\u001b[0m\n\u001b[1;32m     43\u001b[0m \u001b[0;34m\u001b[0m\u001b[0m\n",
      "\u001b[0;32m~/anaconda3/envs/parallel/lib/python3.9/site-packages/matplotlib/image.py\u001b[0m in \u001b[0;36mimread\u001b[0;34m(fname, format)\u001b[0m\n\u001b[1;32m   1499\u001b[0m                     \u001b[0mresponse\u001b[0m \u001b[0;34m=\u001b[0m \u001b[0mio\u001b[0m\u001b[0;34m.\u001b[0m\u001b[0mBytesIO\u001b[0m\u001b[0;34m(\u001b[0m\u001b[0mresponse\u001b[0m\u001b[0;34m.\u001b[0m\u001b[0mread\u001b[0m\u001b[0;34m(\u001b[0m\u001b[0;34m)\u001b[0m\u001b[0;34m)\u001b[0m\u001b[0;34m\u001b[0m\u001b[0;34m\u001b[0m\u001b[0m\n\u001b[1;32m   1500\u001b[0m                 \u001b[0;32mreturn\u001b[0m \u001b[0mimread\u001b[0m\u001b[0;34m(\u001b[0m\u001b[0mresponse\u001b[0m\u001b[0;34m,\u001b[0m \u001b[0mformat\u001b[0m\u001b[0;34m=\u001b[0m\u001b[0mext\u001b[0m\u001b[0;34m)\u001b[0m\u001b[0;34m\u001b[0m\u001b[0;34m\u001b[0m\u001b[0m\n\u001b[0;32m-> 1501\u001b[0;31m     \u001b[0;32mwith\u001b[0m \u001b[0mimg_open\u001b[0m\u001b[0;34m(\u001b[0m\u001b[0mfname\u001b[0m\u001b[0;34m)\u001b[0m \u001b[0;32mas\u001b[0m \u001b[0mimage\u001b[0m\u001b[0;34m:\u001b[0m\u001b[0;34m\u001b[0m\u001b[0;34m\u001b[0m\u001b[0m\n\u001b[0m\u001b[1;32m   1502\u001b[0m         return (_pil_png_to_float_array(image)\n\u001b[1;32m   1503\u001b[0m                 \u001b[0;32mif\u001b[0m \u001b[0misinstance\u001b[0m\u001b[0;34m(\u001b[0m\u001b[0mimage\u001b[0m\u001b[0;34m,\u001b[0m \u001b[0mPIL\u001b[0m\u001b[0;34m.\u001b[0m\u001b[0mPngImagePlugin\u001b[0m\u001b[0;34m.\u001b[0m\u001b[0mPngImageFile\u001b[0m\u001b[0;34m)\u001b[0m \u001b[0;32melse\u001b[0m\u001b[0;34m\u001b[0m\u001b[0;34m\u001b[0m\u001b[0m\n",
      "\u001b[0;32m~/anaconda3/envs/parallel/lib/python3.9/site-packages/PIL/Image.py\u001b[0m in \u001b[0;36mopen\u001b[0;34m(fp, mode, formats)\u001b[0m\n\u001b[1;32m   2956\u001b[0m     \u001b[0;32mfor\u001b[0m \u001b[0mmessage\u001b[0m \u001b[0;32min\u001b[0m \u001b[0maccept_warnings\u001b[0m\u001b[0;34m:\u001b[0m\u001b[0;34m\u001b[0m\u001b[0;34m\u001b[0m\u001b[0m\n\u001b[1;32m   2957\u001b[0m         \u001b[0mwarnings\u001b[0m\u001b[0;34m.\u001b[0m\u001b[0mwarn\u001b[0m\u001b[0;34m(\u001b[0m\u001b[0mmessage\u001b[0m\u001b[0;34m)\u001b[0m\u001b[0;34m\u001b[0m\u001b[0;34m\u001b[0m\u001b[0m\n\u001b[0;32m-> 2958\u001b[0;31m     raise UnidentifiedImageError(\n\u001b[0m\u001b[1;32m   2959\u001b[0m         \u001b[0;34m\"cannot identify image file %r\"\u001b[0m \u001b[0;34m%\u001b[0m \u001b[0;34m(\u001b[0m\u001b[0mfilename\u001b[0m \u001b[0;32mif\u001b[0m \u001b[0mfilename\u001b[0m \u001b[0;32melse\u001b[0m \u001b[0mfp\u001b[0m\u001b[0;34m)\u001b[0m\u001b[0;34m\u001b[0m\u001b[0;34m\u001b[0m\u001b[0m\n\u001b[1;32m   2960\u001b[0m     )\n",
      "\u001b[0;31mUnidentifiedImageError\u001b[0m: cannot identify image file 'from_server.jpeg'"
     ]
    }
   ],
   "source": [
    "import socket\n",
    "import matplotlib.pyplot as plt\n",
    "import matplotlib.image as mpimg\n",
    "\n",
    "\n",
    "if __name__ == \"__main__\":\n",
    "    HOST = \"127.0.0.1\"\n",
    "    PORT = 5005\n",
    "    try:\n",
    "        client_Socket = socket.socket(socket.AF_INET, socket.SOCK_STREAM)\n",
    "        print(\"\\n[*] Socket successfully created\")\n",
    "    except socket.error as err:\n",
    "        print(\"\\n[*] Socket creation failed with error : \",err)\n",
    "    print(\"\\n[*] Connecting to server @ ip = {} and port = {}\".format(HOST,PORT))\n",
    "    client_Socket.connect((HOST, PORT))\n",
    "    # read the image as binary file\n",
    "    Image = open(\"lena.jpg\", \"rb\")\n",
    "    t = 1\n",
    "    print(\"\\n[*] Sending image as bytes...\")\n",
    "    CHUNK_SIZE = 4 * 1024   \n",
    "    while t>0:\n",
    "        print(t)\n",
    "        data = Image.read(CHUNK_SIZE)\n",
    "        t = client_Socket.send(data)\n",
    "    client_Socket.send(b\"0\")\n",
    "    print(\"\\n[*] Finish sending the image...\")\n",
    "    print(\"\\n------------------------------------------------\\n\")\n",
    "    print(\"----------------Receving data-------------------\\n\")\n",
    "    print(\"\\n------------------------------------------------\\n\")\n",
    "    t = b''\n",
    "    res = b''\n",
    "    while not(t == b'0'):\n",
    "        t = client_Socket.recv(CHUNK_SIZE)\n",
    "        res += t\n",
    "        print(\"\\n[*] Length of Data received: \"+ str(len(t)))\n",
    "    with open(\"from_server.jpeg\", \"wb\") as g :    \n",
    "        g.write(res)\n",
    "        \n",
    "\n",
    "        \n",
    "    img = mpimg.imread(\"from_server.jpeg\")\n",
    "    plt.imshow(img)\n",
    "        \n",
    "    client_Socket.close()"
   ]
  },
  {
   "cell_type": "code",
   "execution_count": null,
   "id": "8608d77b",
   "metadata": {},
   "outputs": [],
   "source": []
  }
 ],
 "metadata": {
  "kernelspec": {
   "display_name": "Python 3",
   "language": "python",
   "name": "python3"
  },
  "language_info": {
   "codemirror_mode": {
    "name": "ipython",
    "version": 3
   },
   "file_extension": ".py",
   "mimetype": "text/x-python",
   "name": "python",
   "nbconvert_exporter": "python",
   "pygments_lexer": "ipython3",
   "version": "3.9.2"
  }
 },
 "nbformat": 4,
 "nbformat_minor": 5
}
